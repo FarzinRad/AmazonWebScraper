{
 "cells": [
  {
   "cell_type": "markdown",
   "metadata": {},
   "source": [
    "## Amazon Web Scraper\n",
    "\n",
    "In this project I create web scarper to get features from amazon products.\n",
    "\n",
    "I use python and some libraries like: BeautifulSoup4, requests, and etc...\n",
    "\n",
    "Before Import this libraries you need to installing--> Use: `Conda install BeautifulSoup4` and `Conda install requests` , consider that you can use pip instead of conda with this codes: `pip install BeautifulSoup4` or `pip install requests` .\n",
    "So let's deep dive in project and enjoy:)"
   ]
  },
  {
   "cell_type": "code",
   "execution_count": 1,
   "metadata": {},
   "outputs": [],
   "source": [
    "# import libraries \n",
    "\n",
    "from bs4 import BeautifulSoup\n",
    "import requests\n",
    "import time\n",
    "import datetime\n",
    "\n",
    "import smtplib"
   ]
  },
  {
   "cell_type": "code",
   "execution_count": 47,
   "metadata": {},
   "outputs": [
    {
     "name": "stdout",
     "output_type": "stream",
     "text": [
      "Funny Got Data MIS Data Systems Business Analyst T-Shirt\n",
      "16.99\n"
     ]
    }
   ],
   "source": [
    "URL = 'https://www.amazon.com/Funny-Data-Systems-Business-Analyst/dp/B07FNW9FGJ/ref=sr_1_6?keywords=data+analyst+shirt&qid=1650387916&sr=8-6'\n",
    "\n",
    "\n",
    "headers = {\"User-Agent\": \"Mozilla/5.0 (Windows NT 10.0; Win64; x64) AppleWebKit/537.36 (KHTML, like Gecko) Chrome/100.0.4896.127 Safari/537.36\", \"Accept-Encoding\":\"gzip, deflate\", \"Accept\":\"text/html,application/xhtml+xml,application/xml;q=0.9,*/*;q=0.8\", \"DNT\":\"1\",\"Connection\":\"close\", \"Upgrade-Insecure-Requests\":\"1\"}\n",
    "\n",
    "page = requests.get(URL, headers = headers)\n",
    "\n",
    "soup1 = BeautifulSoup(page.content, 'html.parser')\n",
    "\n",
    "soup2 = BeautifulSoup(soup1.prettify(), 'html.parser')\n",
    "\n",
    "\n",
    "\n",
    "title = soup2.find(id = 'productTitle').getText(strip = True)\n",
    "price = soup2.find('span', {'class':'a-offscreen'}).getText(strip = True)\n",
    "\n",
    "#strip = True --> because we have a lot of space in ourput and with this statement we can remove them.\n",
    "\n",
    "\n",
    "# Another method for geting the price is:\n",
    "#price = soup2.find(class_='a-offscreen')\n",
    "#price = price.get_text() if price else \"No Description\"\n",
    "'''\n",
    "in each 2 method we have same output and it's $16.99, For removing '$' sign we can use 'replace' method \n",
    "or use the [1:]. I prefer use the 'replace' because it's more reliable. \n",
    "'''\n",
    "\n",
    "price = price.replace('$', '')\n",
    "\n",
    "\n",
    "print(title)\n",
    "print(price)\n",
    "\n"
   ]
  },
  {
   "cell_type": "code",
   "execution_count": 46,
   "metadata": {},
   "outputs": [
    {
     "data": {
      "text/plain": [
       "'16.99'"
      ]
     },
     "execution_count": 46,
     "metadata": {},
     "output_type": "execute_result"
    }
   ],
   "source": []
  },
  {
   "cell_type": "code",
   "execution_count": null,
   "metadata": {},
   "outputs": [],
   "source": []
  }
 ],
 "metadata": {
  "kernelspec": {
   "display_name": "Python 3",
   "language": "python",
   "name": "python3"
  },
  "language_info": {
   "codemirror_mode": {
    "name": "ipython",
    "version": 3
   },
   "file_extension": ".py",
   "mimetype": "text/x-python",
   "name": "python",
   "nbconvert_exporter": "python",
   "pygments_lexer": "ipython3",
   "version": "3.7.6"
  }
 },
 "nbformat": 4,
 "nbformat_minor": 4
}
